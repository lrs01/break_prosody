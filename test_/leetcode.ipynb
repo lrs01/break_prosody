{
 "cells": [
  {
   "cell_type": "code",
   "execution_count": 3,
   "metadata": {},
   "outputs": [
    {
     "name": "stdout",
     "output_type": "stream",
     "text": [
      "5\n"
     ]
    }
   ],
   "source": [
    "# leetcode 485\n",
    "list_tool = [1,1,1,0,1,1,1,1,1,0]\n",
    "count = 0\n",
    "result = 0 #始终指向当前最多的连续1的数量\n",
    "\n",
    "for i,e in enumerate(list_tool):\n",
    "    if e == 1:\n",
    "        count +=1\n",
    "    else :\n",
    "        result = max(result,count)\n",
    "        count = 0\n",
    "print( max(result,count))"
   ]
  },
  {
   "cell_type": "code",
   "execution_count": 14,
   "metadata": {},
   "outputs": [
    {
     "name": "stdout",
     "output_type": "stream",
     "text": [
      "3 5\n",
      "[1, 3, 12, 0, 0]\n"
     ]
    }
   ],
   "source": [
    "l = [0,1,0,3,12]\n",
    "index = 0\n",
    "length = len(l)\n",
    "for i ,e in enumerate(l):\n",
    "    if e != 0:\n",
    "        l[index] = e\n",
    "        index +=1\n",
    "print(index,length)\n",
    "for j in range(index,length):\n",
    "    l[j] = 0\n",
    "print(l)\n"
   ]
  }
 ],
 "metadata": {
  "interpreter": {
   "hash": "74a12f05d33dbc9b046683ad07b689106904590ea2d37d6f82a16bc21f1e265a"
  },
  "kernelspec": {
   "display_name": "Python 3.8.5 ('pytorch')",
   "language": "python",
   "name": "python3"
  },
  "language_info": {
   "codemirror_mode": {
    "name": "ipython",
    "version": 3
   },
   "file_extension": ".py",
   "mimetype": "text/x-python",
   "name": "python",
   "nbconvert_exporter": "python",
   "pygments_lexer": "ipython3",
   "version": "3.8.5"
  },
  "orig_nbformat": 4
 },
 "nbformat": 4,
 "nbformat_minor": 2
}
