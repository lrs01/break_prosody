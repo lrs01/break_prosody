{
 "cells": [
  {
   "cell_type": "code",
   "execution_count": 4,
   "metadata": {},
   "outputs": [
    {
     "name": "stdout",
     "output_type": "stream",
     "text": [
      "(2, 527237) 16000\n"
     ]
    },
    {
     "data": {
      "image/png": "[encoded data removed]",
      "text/plain": [
       "<Figure size 432x288 with 1 Axes>"
      ]
     },
     "metadata": {
      "needs_background": "light"
     },
     "output_type": "display_data"
    }
   ],
   "source": [
    "import librosa\n",
    "import matplotlib as mpl\n",
    "import matplotlib.pyplot as plt\n",
    "y,sr = librosa.load('/home/lrs/dengfeng.p/break_feature/f001001_01.wav',sr = 16000,mono = False)\n",
    "print(y.shape,sr) \n",
    "x = librosa.feature.rms(y=y[0],frame_length=320,hop_length=160)\n",
    "plt.plot(x[0][:500])\n",
    "plt.show()\n",
    "# print(x)"
   ]
  },
  {
   "cell_type": "code",
   "execution_count": 5,
   "metadata": {},
   "outputs": [
    {
     "name": "stdout",
     "output_type": "stream",
     "text": [
      "(124, 2)\n",
      "torch.Size([124, 2])\n"
     ]
    }
   ],
   "source": [
    "import os \n",
    "import pickle\n",
    "import torch\n",
    "path = '/home/lrs/dengfeng.p/break_feature/Data/feature/f001lab/f001001_01/intensity.pkl'\n",
    "data = open(path,'rb')\n",
    "out = pickle.load(data)\n",
    "print(out.shape)\n",
    "tensor_out = torch.from_numpy(out)\n",
    "# t = torch.cat((tensor_out,tensor_out),dim=1)\n",
    "print(tensor_out.shape)\n",
    "# print(t.shape)\n",
    "data.close()"
   ]
  },
  {
   "cell_type": "code",
   "execution_count": 6,
   "metadata": {},
   "outputs": [
    {
     "name": "stdout",
     "output_type": "stream",
     "text": [
      "/home/lrs/dengfeng.p/break_feature/Data/feature/f001lab/f001001_01\n",
      "['label.pkl', 'f0.pkl', 'intensity.pkl', 'duration.pkl']\n",
      "1\n"
     ]
    }
   ],
   "source": [
    "import os \n",
    "\n",
    "path= '/home/lrs/dengfeng.p/break_feature/Data/feature/f001lab/f001001_01'\n",
    "i = 0\n",
    "for root ,dirs, files in os.walk(path):\n",
    "    i +=1\n",
    "    print(root)\n",
    "    print(files)\n",
    "    print(i)"
   ]
  },
  {
   "cell_type": "code",
   "execution_count": 7,
   "metadata": {},
   "outputs": [
    {
     "name": "stdout",
     "output_type": "stream",
     "text": [
      "torch.Size([3, 5])\n",
      "torch.Size([3])\n"
     ]
    }
   ],
   "source": [
    "import torch \n",
    "import torch.nn as nn\n",
    "loss = nn.CrossEntropyLoss()\n",
    "input = torch.randn(3, 5, requires_grad=True)\n",
    "target = torch.empty(3, dtype=torch.long).random_(5)\n",
    "print(input.shape)\n",
    "print(target.shape)\n",
    "output = loss(input, target)\n",
    "output.backward()"
   ]
  },
  {
   "cell_type": "code",
   "execution_count": 8,
   "metadata": {},
   "outputs": [
    {
     "name": "stdout",
     "output_type": "stream",
     "text": [
      "[1 2 3 4 5 6 7 8 9] [0]\n",
      "[0 2 3 4 5 6 7 8 9] [1]\n",
      "[0 1 3 4 5 6 7 8 9] [2]\n",
      "[0 1 2 4 5 6 7 8 9] [3]\n",
      "[0 1 2 3 5 6 7 8 9] [4]\n",
      "[0 1 2 3 4 6 7 8 9] [5]\n",
      "[0 1 2 3 4 5 7 8 9] [6]\n",
      "[0 1 2 3 4 5 6 8 9] [7]\n",
      "[0 1 2 3 4 5 6 7 9] [8]\n",
      "[0 1 2 3 4 5 6 7 8] [9]\n"
     ]
    }
   ],
   "source": [
    "import numpy as np\n",
    "from sklearn.model_selection import KFold\n",
    "X = [\"a\", \"b\", \"c\", \"d\",'e','f','g','h','i','j']\n",
    "kf = KFold(n_splits=10)\n",
    "for train, test in kf.split(X):\n",
    "    print(\"%s %s\" % (train, test))"
   ]
  },
  {
   "cell_type": "code",
   "execution_count": 9,
   "metadata": {},
   "outputs": [
    {
     "name": "stdout",
     "output_type": "stream",
     "text": [
      "['f001001_01', 'f001001_02', 'f001001_03', 'f001001_04', 'f001001_05', 'f001001_06', 'f001001_07', 'f001002_01', 'f001002_02', 'f001002_03', 'f001002_04', 'f001002_05', 'f001003_01', 'f001003_02', 'f001004_01', 'f001004_02', 'f001004_03', 'f001004_04', 'f001004_05', 'f001004_06', 'f001005_01', 'f001005_02', 'f001005_03', 'f001005_04', 'f001005_05', 'f001005_06', 'f001005_07', 'f001006_01', 'f001006_02', 'f001006_03', 'f001007_01', 'f001007_02', 'f001007_03', 'f001008_01', 'f001008_02', 'f001008_03', 'f001008_04', 'f001008_05', 'f001009_01', 'f001009_02', 'f001009_03', 'f001009_04', 'f001010_01', 'f001010_02', 'f001010_03', 'f001010_04', 'f001010_05', 'f001011_01', 'f001011_02', 'f001011_03', 'f001012_01', 'f001012_02', 'f001012_03', 'f001012_04', 'f001012_05', 'f001012_06', 'f001013_01', 'f001013_02', 'f001013_03', 'f001014_01', 'f001014_02', 'f001014_03', 'f001014_04', 'f001015_01', 'f001015_02', 'f001015_03', 'f001016_01', 'f001016_02', 'f001017_01', 'f001017_02', 'f001017_03', 'f001017_04', 'f001017_05', 'f001017_06', 'f001018_01', 'f001018_02', 'f001018_03', 'f001018_04']\n"
     ]
    }
   ],
   "source": [
    "import os\n",
    "\n",
    "path = '/home/lrs/dengfeng.p/break_feature/Data/feature/f001lab'\n",
    "path_list = os.listdir(path)\n",
    "path_list.sort()\n",
    "print(path_list)"
   ]
  },
  {
   "cell_type": "code",
   "execution_count": 10,
   "metadata": {},
   "outputs": [
    {
     "name": "stdout",
     "output_type": "stream",
     "text": [
      "['label.pkl', 'f0.pkl', 'intensity.pkl', 'duration.pkl']\n"
     ]
    }
   ],
   "source": [
    "import os \n",
    "\n",
    "path = '/home/lrs/dengfeng.p/break_feature/Data/feature/f001lab/f001001_01'\n",
    "files = os.listdir(path)\n",
    "print(files)"
   ]
  },
  {
   "cell_type": "code",
   "execution_count": 11,
   "metadata": {},
   "outputs": [
    {
     "name": "stdout",
     "output_type": "stream",
     "text": [
      "[1]\n"
     ]
    }
   ],
   "source": [
    "l = [{\"a\":1,\"b\":2,\"c\":3}]\n",
    "x = [dic[\"a\"] for dic in l]\n",
    "print(x)"
   ]
  },
  {
   "cell_type": "code",
   "execution_count": 19,
   "metadata": {},
   "outputs": [
    {
     "name": "stdout",
     "output_type": "stream",
     "text": [
      "0\n",
      "0 f001001_01\n",
      "1 insert\n",
      "2 f001001_02\n",
      "3 f001001_03\n",
      "4 f001001_04\n",
      "5 f001001_05\n",
      "6 f001001_06\n",
      "7 f001001_07\n",
      "8 这是extend\n",
      "9 extend2\n"
     ]
    }
   ],
   "source": [
    "list_tool = ['f001001_01', 'f001001_02', 'f001001_03', 'f001001_04', 'f001001_05', 'f001001_06', 'f001001_07']\n",
    "\n",
    "list_index = list_tool.index('f001001_01')\n",
    "list_extend = list_tool.extend(['这是extend','extend2'])\n",
    "list_insert = list_tool.insert(1,'insert')\n",
    "print(list_index) ## 索引值\n",
    "for index , element in enumerate(list_tool):\n",
    "    print(index,element) ## type(index):int  type(element):str\n"
   ]
  },
  {
   "cell_type": "code",
   "execution_count": 2,
   "metadata": {},
   "outputs": [
    {
     "name": "stdout",
     "output_type": "stream",
     "text": [
      "<class 'str'>\n"
     ]
    }
   ],
   "source": [
    "path = f'sfs{112}'\n",
    "print(type(path))"
   ]
  },
  {
   "cell_type": "code",
   "execution_count": 5,
   "metadata": {},
   "outputs": [],
   "source": [
    "import sys\n",
    "log_path = '/home/lrs/dengfeng.p/break_feature/test_/log.txt'\n",
    "sys.stdout = open(log_path, mode='a+', encoding='utf-8')\n",
    "\n",
    "for i in range(100):\n",
    "    print(i)\n",
    "    print(i+1)\n",
    "print(\"dfadfafafdfa\")"
   ]
  }
 ],
 "metadata": {
  "interpreter": {
   "hash": "74a12f05d33dbc9b046683ad07b689106904590ea2d37d6f82a16bc21f1e265a"
  },
  "kernelspec": {
   "display_name": "Python 3.8.5 ('pytorch')",
   "language": "python",
   "name": "python3"
  },
  "language_info": {
   "codemirror_mode": {
    "name": "ipython",
    "version": 3
   },
   "file_extension": ".py",
   "mimetype": "text/x-python",
   "name": "python",
   "nbconvert_exporter": "python",
   "pygments_lexer": "ipython3",
   "version": "3.8.5"
  },
  "orig_nbformat": 4
 },
 "nbformat": 4,
 "nbformat_minor": 2
}
